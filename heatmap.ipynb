{
 "cells": [
  {
   "cell_type": "code",
   "execution_count": null,
   "metadata": {},
   "outputs": [],
   "source": [
    "# uncomment and run this cell if you don't have the required libraries\n",
    "# %pip install matplotlib calmap"
   ]
  },
  {
   "cell_type": "code",
   "execution_count": 1,
   "metadata": {},
   "outputs": [],
   "source": [
    "import pandas as pd\n",
    "import matplotlib.pyplot as plt\n",
    "import calmap\n",
    "from typing import List, Dict, Any\n",
    "from datetime import datetime\n",
    "import json"
   ]
  },
  {
   "cell_type": "code",
   "execution_count": 2,
   "metadata": {},
   "outputs": [],
   "source": [
    "#load data\n",
    "with open('data/meri-nova.json') as f:\n",
    "    data = json.load(f)"
   ]
  },
  {
   "cell_type": "code",
   "execution_count": 3,
   "metadata": {},
   "outputs": [],
   "source": [
    "def generate_heatmaps_for_years(\n",
    "    response_data: List[Dict[str, Any]],\n",
    "    years: List[int],\n",
    "    name: str,\n",
    "    figure_size: tuple = (20, 10),\n",
    "    cmap: str = 'YlGn',\n",
    "    fill_color: str = 'lightgray'\n",
    ") -> None:\n",
    "    \"\"\"\n",
    "    Generates GitHub-style activity heatmaps for specified years from JSON response data.\n",
    "\n",
    "    Args:\n",
    "        response_data: List of dictionaries containing activity data with 'createdAt' timestamps\n",
    "        years: List of years to generate heatmaps for\n",
    "        name: Name to display in the plot title\n",
    "        figure_size: Tuple specifying matplotlib figure size\n",
    "        cmap: Matplotlib colormap name\n",
    "        fill_color: Color for days with no activity\n",
    "\n",
    "    Raises:\n",
    "        ValueError: If input data validation fails\n",
    "\n",
    "    Example:\n",
    "        >>> data = [{'createdAt': '2024-01-01T12:34:56Z'}, ...]\n",
    "        >>> generate_heatmaps_for_years(data, [2024], \"John Doe\")\n",
    "    \"\"\"\n",
    "    # Validate input parameters\n",
    "    if not response_data:\n",
    "        raise ValueError(\"Input response_data cannot be empty\")\n",
    "    if not years:\n",
    "        raise ValueError(\"Years list cannot be empty\")\n",
    "    if any(year < 1970 or year > 2100 for year in years):\n",
    "        raise ValueError(\"Invalid year value in years list\")\n",
    "\n",
    "    df = _prepare_dataframe(response_data)\n",
    "    \n",
    "    for year in sorted(set(years)):  # Process unique years in sorted order\n",
    "        try:\n",
    "            activity_series = _process_year_data(df, year)\n",
    "            _plot_year_heatmap(activity_series, year, name, figure_size, cmap, fill_color)\n",
    "        except ValueError as e:\n",
    "            print(f\"Skipping year {year} due to error: {str(e)}\")\n",
    "            continue\n",
    "\n",
    "def _prepare_dataframe(raw_data: List[Dict[str, Any]]) -> pd.DataFrame:\n",
    "    \"\"\"Convert and prepare raw data into standardized DataFrame format.\"\"\"\n",
    "    df = pd.DataFrame(raw_data)\n",
    "    \n",
    "    if 'createdAt' not in df.columns:\n",
    "        raise ValueError(\"Input data must contain 'createdAt' field\")\n",
    "\n",
    "    # Convert to datetime and handle timezones\n",
    "    df['createdAt'] = pd.to_datetime(df['createdAt']).dt.tz_localize(None)\n",
    "    return df.sort_values(by='createdAt').reset_index(drop=True)\n",
    "\n",
    "\n",
    "def _process_year_data(df: pd.DataFrame, year: int) -> pd.Series:\n",
    "    \"\"\"Process data for a single year and return activity time series.\"\"\"\n",
    "    year_start = datetime(year, 1, 1)\n",
    "    year_end = datetime(year, 12, 31)\n",
    "    \n",
    "    # Filter and validate year data\n",
    "    year_mask = (df['createdAt'] >= year_start) & (df['createdAt'] <= year_end)\n",
    "    year_df = df.loc[year_mask]\n",
    "    \n",
    "    if year_df.empty:\n",
    "        raise ValueError(f\"No data available for year {year}\")\n",
    "    \n",
    "    # Aggregate daily activity\n",
    "    daily_activity = year_df.groupby(year_df['createdAt'].dt.date).size()\n",
    "    daily_activity.index = pd.to_datetime(daily_activity.index)\n",
    "    \n",
    "    # Create complete date range for the year\n",
    "    date_range = pd.date_range(start=year_start, end=year_end, freq='D')\n",
    "    return daily_activity.reindex(date_range, fill_value=0)\n",
    "\n",
    "def _plot_year_heatmap(\n",
    "    activity: pd.Series,\n",
    "    year: int,\n",
    "    name: str,\n",
    "    figure_size: tuple,\n",
    "    cmap: str,\n",
    "    fill_color: str\n",
    ") -> None:\n",
    "    \"\"\"Generate and display the heatmap visualization for a single year.\"\"\"\n",
    "    plt.figure(figsize=figure_size)\n",
    "    calmap.yearplot(\n",
    "        activity,\n",
    "        year=year,\n",
    "        cmap=cmap,\n",
    "        fillcolor=fill_color,\n",
    "        linewidth=0.5\n",
    "    )\n",
    "    plt.title(\n",
    "        f\"{name}'s LinkedIn Activity Heatmap - {year}\",\n",
    "        fontsize=16,\n",
    "        pad=20\n",
    "    )\n",
    "    plt.tight_layout()\n",
    "    plt.show()"
   ]
  },
  {
   "cell_type": "code",
   "execution_count": 6,
   "metadata": {},
   "outputs": [
    {
     "data": {
      "image/png": "[encoded data removed]",
      "text/plain": [
       "<Figure size 2000x1000 with 1 Axes>"
      ]
     },
     "metadata": {},
     "output_type": "display_data"
    },
    {
     "data": {
      "image/png": "[encoded data removed]",
      "text/plain": [
       "<Figure size 2000x1000 with 1 Axes>"
      ]
     },
     "metadata": {},
     "output_type": "display_data"
    }
   ],
   "source": [
    "generate_heatmaps_for_years(data, [2024,2025], \"Meri Nova\")"
   ]
  },
  {
   "cell_type": "markdown",
   "metadata": {},
   "source": [
    "# Interactive Version"
   ]
  },
  {
   "cell_type": "code",
   "execution_count": 6,
   "metadata": {},
   "outputs": [],
   "source": [
    "from datetime import datetime\n",
    "from typing import List, Dict, Any\n",
    "import pandas as pd\n",
    "import numpy as np\n",
    "import plotly.graph_objects as go\n",
    "import plotly.express as px\n",
    "from dateutil.relativedelta import relativedelta\n",
    "\n",
    "def generate_plotly_heatmaps_for_years(\n",
    "    response_data: List[Dict[str, Any]],\n",
    "    years: List[int],\n",
    "    name: str,\n",
    "    colorscale: str = 'YlGn',\n",
    ") -> None:\n",
    "    \"\"\"\n",
    "    Generates interactive Plotly calendar heatmaps for specified years.\n",
    "\n",
    "    Args:\n",
    "        response_data: List of dictionaries containing 'createdAt' timestamps\n",
    "        years: List of years to generate heatmaps for\n",
    "        name: Name to display in plot titles\n",
    "        colorscale: Plotly color scale name\n",
    "\n",
    "    Example:\n",
    "        >>> data = [{'createdAt': '2024-01-01T12:34:56Z'}, ...]\n",
    "        >>> generate_plotly_heatmaps_for_years(data, [2024], \"John Doe\")\n",
    "    \"\"\"\n",
    "    df = _prepare_dataframe(response_data)\n",
    "    \n",
    "    for year in sorted(set(years)):\n",
    "        try:\n",
    "            activity_data, all_dates = _process_year_data(df, year)\n",
    "            _create_plotly_heatmap(activity_data, all_dates, year, name, colorscale)\n",
    "        except ValueError as e:\n",
    "            print(f\"Skipping year {year}: {str(e)}\")\n",
    "\n",
    "\n",
    "def _process_year_data(df: pd.DataFrame, year: int) -> tuple:\n",
    "    \"\"\"Process data for a single year and return matrix with dates.\"\"\"\n",
    "    start_date = datetime(year, 1, 1)\n",
    "    end_date = datetime(year, 12, 31)\n",
    "    \n",
    "    # Create complete date range for the year\n",
    "    date_range = pd.date_range(start=start_date, end=end_date, freq='D')\n",
    "    \n",
    "    # Filter and aggregate data\n",
    "    mask = (df['createdAt'] >= start_date) & (df['createdAt'] <= end_date)\n",
    "    activity = df.loc[mask].groupby(df['createdAt'].dt.date).size()\n",
    "    activity = activity.reindex(date_range.date, fill_value=0)\n",
    "    \n",
    "    return activity, date_range\n",
    "\n",
    "def _create_plotly_heatmap(\n",
    "    activity: pd.Series,\n",
    "    all_dates: pd.DatetimeIndex,\n",
    "    year: int,\n",
    "    name: str,\n",
    "    colorscale: str\n",
    ") -> None:\n",
    "    \"\"\"Generate interactive Plotly calendar heatmap.\"\"\"\n",
    "    # Create matrix for calendar layout\n",
    "    first_date = all_dates[0]\n",
    "    last_date = all_dates[-1]\n",
    "    \n",
    "    # Calculate week numbers and day of week\n",
    "    dates = [d.date() for d in all_dates]\n",
    "    week_numbers = [d.isocalendar().week for d in dates]\n",
    "    day_of_week = [d.isocalendar().weekday for d in dates]\n",
    "    \n",
    "    # Adjust for ISO week year boundary dates\n",
    "    if dates[0].isocalendar().year != year:\n",
    "        week_numbers = [0 if wn >= 52 else wn for wn in week_numbers]\n",
    "    if dates[-1].isocalendar().year != year:\n",
    "        week_numbers = [wn if d.isocalendar().year == year else 53 \n",
    "                       for wn, d in zip(week_numbers, dates)]\n",
    "    \n",
    "    # Create DataFrame for plotting\n",
    "    plot_df = pd.DataFrame({\n",
    "        'date': dates,\n",
    "        'week': week_numbers,\n",
    "        'day': day_of_week,\n",
    "        'count': activity.values,\n",
    "        'text': [f\"Date: {d.strftime('%Y-%m-%d')}<br>Count: {c}\" \n",
    "                for d, c in zip(dates, activity.values)]\n",
    "    })\n",
    "    \n",
    "    # Pivot to matrix format\n",
    "    matrix = plot_df.pivot_table(\n",
    "        index='day', \n",
    "        columns='week', \n",
    "        values='count', \n",
    "        aggfunc='sum',\n",
    "        fill_value=0\n",
    "    )\n",
    "    annotations = plot_df.pivot_table(\n",
    "        index='day', \n",
    "        columns='week', \n",
    "        values='text', \n",
    "        aggfunc='first',\n",
    "        fill_value=''\n",
    "    )\n",
    "    \n",
    "    # Create heatmap\n",
    "    fig = go.Figure(data=go.Heatmap(\n",
    "        z=matrix.values,\n",
    "        x=matrix.columns,\n",
    "        y=['Mon', 'Tue', 'Wed', 'Thu', 'Fri', 'Sat', 'Sun'],\n",
    "        text=annotations.values,\n",
    "        hoverinfo='text',\n",
    "        colorscale=colorscale,\n",
    "        showscale=True,\n",
    "        xgap=3,\n",
    "        ygap=3,\n",
    "    ))\n",
    "    \n",
    "    # Customize layout\n",
    "    fig.update_layout(\n",
    "        title=f\"{name}'s Activity Heatmap - {year}\",\n",
    "        height=200,\n",
    "        margin=dict(t=40, b=20, l=20, r=20),\n",
    "        yaxis=dict(autorange='reversed', showgrid=False),\n",
    "        xaxis=dict(showgrid=False),\n",
    "        plot_bgcolor='white'\n",
    "    )\n",
    "    \n",
    "    # Add month separators\n",
    "    current_month = first_date.month\n",
    "    months = []\n",
    "    for d in pd.date_range(first_date, last_date, freq='MS'):\n",
    "        if d.month != current_month:\n",
    "            week_num = d.isocalendar().week\n",
    "            months.append(dict(\n",
    "                type='line',\n",
    "                x0=week_num - 1.5,\n",
    "                x1=week_num - 1.5,\n",
    "                y0=-0.5,\n",
    "                y1=6.5,\n",
    "                line=dict(color='rgba(0,0,0,0.2)', width=1)\n",
    "            ))\n",
    "            current_month = d.month\n",
    "    \n",
    "    fig.update_layout(shapes=months)\n",
    "    fig.show()"
   ]
  },
  {
   "cell_type": "code",
   "execution_count": 7,
   "metadata": {},
   "outputs": [
    {
     "data": {
      "application/vnd.plotly.v1+json": {
       "config": {
        "plotlyServerURL": "https://plot.ly"
       },
       "data": [
        {
         "colorscale": [
          [
           0,
           "rgb(255,255,229)"
          ],
          [
           0.125,
           "rgb(247,252,185)"
          ],
          [
           0.25,
           "rgb(217,240,163)"
          ],
          [
           0.375,
           "rgb(173,221,142)"
          ],
          [
           0.5,
           "rgb(120,198,121)"
          ],
          [
           0.625,
           "rgb(65,171,93)"
          ],
          [
           0.75,
           "rgb(35,132,67)"
          ],
          [
           0.875,
           "rgb(0,104,55)"
          ],
          [
           1,
           "rgb(0,69,41)"
          ]
         ],
         "hoverinfo": "text",
         "showscale": true,
         "text": [
          [
           "Date: 2024-01-01<br>Count: 1",
           "Date: 2024-01-08<br>Count: 0",
           "Date: 2024-01-15<br>Count: 1",
           "Date: 2024-01-22<br>Count: 1",
           "Date: 2024-01-29<br>Count: 1",
           "Date: 2024-02-05<br>Count: 2",
           "Date: 2024-02-12<br>Count: 1",
           "Date: 2024-02-19<br>Count: 2",
           "Date: 2024-02-26<br>Count: 1",
           "Date: 2024-03-04<br>Count: 1",
           "Date: 2024-03-11<br>Count: 1",
           "Date: 2024-03-18<br>Count: 1",
           "Date: 2024-03-25<br>Count: 1",
           "Date: 2024-04-01<br>Count: 1",
           "Date: 2024-04-08<br>Count: 1",
           "Date: 2024-04-15<br>Count: 1",
           "Date: 2024-04-22<br>Count: 1",
           "Date: 2024-04-29<br>Count: 1",
           "Date: 2024-05-06<br>Count: 1",
           "Date: 2024-05-13<br>Count: 1",
           "Date: 2024-05-20<br>Count: 1",
           "Date: 2024-05-27<br>Count: 1",
           "Date: 2024-06-03<br>Count: 0",
           "Date: 2024-06-10<br>Count: 1",
           "Date: 2024-06-17<br>Count: 1",
           "Date: 2024-06-24<br>Count: 1",
           "Date: 2024-07-01<br>Count: 1",
           "Date: 2024-07-08<br>Count: 2",
           "Date: 2024-07-15<br>Count: 1",
           "Date: 2024-07-22<br>Count: 1",
           "Date: 2024-07-29<br>Count: 3",
           "Date: 2024-08-05<br>Count: 1",
           "Date: 2024-08-12<br>Count: 1",
           "Date: 2024-08-19<br>Count: 2",
           "Date: 2024-08-26<br>Count: 1",
           "Date: 2024-09-02<br>Count: 2",
           "Date: 2024-09-09<br>Count: 1",
           "Date: 2024-09-16<br>Count: 1",
           "Date: 2024-09-23<br>Count: 2",
           "Date: 2024-09-30<br>Count: 1",
           "Date: 2024-10-07<br>Count: 1",
           "Date: 2024-10-14<br>Count: 1",
           "Date: 2024-10-21<br>Count: 1",
           "Date: 2024-10-28<br>Count: 1",
           "Date: 2024-11-04<br>Count: 1",
           "Date: 2024-11-11<br>Count: 1",
           "Date: 2024-11-18<br>Count: 1",
           "Date: 2024-11-25<br>Count: 1",
           "Date: 2024-12-02<br>Count: 2",
           "Date: 2024-12-09<br>Count: 2",
           "Date: 2024-12-16<br>Count: 1",
           "Date: 2024-12-23<br>Count: 1",
           "Date: 2024-12-30<br>Count: 1"
          ],
          [
           "Date: 2024-01-02<br>Count: 0",
           "Date: 2024-01-09<br>Count: 2",
           "Date: 2024-01-16<br>Count: 1",
           "Date: 2024-01-23<br>Count: 1",
           "Date: 2024-01-30<br>Count: 0",
           "Date: 2024-02-06<br>Count: 1",
           "Date: 2024-02-13<br>Count: 1",
           "Date: 2024-02-20<br>Count: 1",
           "Date: 2024-02-27<br>Count: 1",
           "Date: 2024-03-05<br>Count: 0",
           "Date: 2024-03-12<br>Count: 0",
           "Date: 2024-03-19<br>Count: 1",
           "Date: 2024-03-26<br>Count: 1",
           "Date: 2024-04-02<br>Count: 1",
           "Date: 2024-04-09<br>Count: 2",
           "Date: 2024-04-16<br>Count: 3",
           "Date: 2024-04-23<br>Count: 1",
           "Date: 2024-04-30<br>Count: 3",
           "Date: 2024-05-07<br>Count: 1",
           "Date: 2024-05-14<br>Count: 1",
           "Date: 2024-05-21<br>Count: 1",
           "Date: 2024-05-28<br>Count: 2",
           "Date: 2024-06-04<br>Count: 3",
           "Date: 2024-06-11<br>Count: 1",
           "Date: 2024-06-18<br>Count: 3",
           "Date: 2024-06-25<br>Count: 2",
           "Date: 2024-07-02<br>Count: 2",
           "Date: 2024-07-09<br>Count: 1",
           "Date: 2024-07-16<br>Count: 2",
           "Date: 2024-07-23<br>Count: 0",
           "Date: 2024-07-30<br>Count: 2",
           "Date: 2024-08-06<br>Count: 1",
           "Date: 2024-08-13<br>Count: 1",
           "Date: 2024-08-20<br>Count: 1",
           "Date: 2024-08-27<br>Count: 1",
           "Date: 2024-09-03<br>Count: 1",
           "Date: 2024-09-10<br>Count: 1",
           "Date: 2024-09-17<br>Count: 2",
           "Date: 2024-09-24<br>Count: 1",
           "Date: 2024-10-01<br>Count: 1",
           "Date: 2024-10-08<br>Count: 1",
           "Date: 2024-10-15<br>Count: 1",
           "Date: 2024-10-22<br>Count: 1",
           "Date: 2024-10-29<br>Count: 1",
           "Date: 2024-11-05<br>Count: 2",
           "Date: 2024-11-12<br>Count: 1",
           "Date: 2024-11-19<br>Count: 3",
           "Date: 2024-11-26<br>Count: 1",
           "Date: 2024-12-03<br>Count: 0",
           "Date: 2024-12-10<br>Count: 0",
           "Date: 2024-12-17<br>Count: 1",
           "Date: 2024-12-24<br>Count: 0",
           "Date: 2024-12-31<br>Count: 0"
          ],
          [
           "Date: 2024-01-03<br>Count: 1",
           "Date: 2024-01-10<br>Count: 2",
           "Date: 2024-01-17<br>Count: 1",
           "Date: 2024-01-24<br>Count: 1",
           "Date: 2024-01-31<br>Count: 1",
           "Date: 2024-02-07<br>Count: 1",
           "Date: 2024-02-14<br>Count: 1",
           "Date: 2024-02-21<br>Count: 0",
           "Date: 2024-02-28<br>Count: 1",
           "Date: 2024-03-06<br>Count: 1",
           "Date: 2024-03-13<br>Count: 1",
           "Date: 2024-03-20<br>Count: 1",
           "Date: 2024-03-27<br>Count: 1",
           "Date: 2024-04-03<br>Count: 1",
           "Date: 2024-04-10<br>Count: 1",
           "Date: 2024-04-17<br>Count: 1",
           "Date: 2024-04-24<br>Count: 2",
           "Date: 2024-05-01<br>Count: 1",
           "Date: 2024-05-08<br>Count: 2",
           "Date: 2024-05-15<br>Count: 1",
           "Date: 2024-05-22<br>Count: 1",
           "Date: 2024-05-29<br>Count: 1",
           "Date: 2024-06-05<br>Count: 2",
           "Date: 2024-06-12<br>Count: 1",
           "Date: 2024-06-19<br>Count: 1",
           "Date: 2024-06-26<br>Count: 1",
           "Date: 2024-07-03<br>Count: 2",
           "Date: 2024-07-10<br>Count: 2",
           "Date: 2024-07-17<br>Count: 2",
           "Date: 2024-07-24<br>Count: 1",
           "Date: 2024-07-31<br>Count: 1",
           "Date: 2024-08-07<br>Count: 1",
           "Date: 2024-08-14<br>Count: 2",
           "Date: 2024-08-21<br>Count: 1",
           "Date: 2024-08-28<br>Count: 1",
           "Date: 2024-09-04<br>Count: 2",
           "Date: 2024-09-11<br>Count: 1",
           "Date: 2024-09-18<br>Count: 1",
           "Date: 2024-09-25<br>Count: 1",
           "Date: 2024-10-02<br>Count: 1",
           "Date: 2024-10-09<br>Count: 2",
           "Date: 2024-10-16<br>Count: 1",
           "Date: 2024-10-23<br>Count: 2",
           "Date: 2024-10-30<br>Count: 1",
           "Date: 2024-11-06<br>Count: 1",
           "Date: 2024-11-13<br>Count: 2",
           "Date: 2024-11-20<br>Count: 2",
           "Date: 2024-11-27<br>Count: 1",
           "Date: 2024-12-04<br>Count: 1",
           "Date: 2024-12-11<br>Count: 1",
           "Date: 2024-12-18<br>Count: 2",
           "Date: 2024-12-25<br>Count: 0",
           ""
          ],
          [
           "Date: 2024-01-04<br>Count: 2",
           "Date: 2024-01-11<br>Count: 1",
           "Date: 2024-01-18<br>Count: 1",
           "Date: 2024-01-25<br>Count: 2",
           "Date: 2024-02-01<br>Count: 0",
           "Date: 2024-02-08<br>Count: 1",
           "Date: 2024-02-15<br>Count: 1",
           "Date: 2024-02-22<br>Count: 2",
           "Date: 2024-02-29<br>Count: 1",
           "Date: 2024-03-07<br>Count: 1",
           "Date: 2024-03-14<br>Count: 2",
           "Date: 2024-03-21<br>Count: 0",
           "Date: 2024-03-28<br>Count: 1",
           "Date: 2024-04-04<br>Count: 0",
           "Date: 2024-04-11<br>Count: 2",
           "Date: 2024-04-18<br>Count: 1",
           "Date: 2024-04-25<br>Count: 2",
           "Date: 2024-05-02<br>Count: 1",
           "Date: 2024-05-09<br>Count: 1",
           "Date: 2024-05-16<br>Count: 1",
           "Date: 2024-05-23<br>Count: 0",
           "Date: 2024-05-30<br>Count: 1",
           "Date: 2024-06-06<br>Count: 1",
           "Date: 2024-06-13<br>Count: 1",
           "Date: 2024-06-20<br>Count: 3",
           "Date: 2024-06-27<br>Count: 2",
           "Date: 2024-07-04<br>Count: 1",
           "Date: 2024-07-11<br>Count: 1",
           "Date: 2024-07-18<br>Count: 1",
           "Date: 2024-07-25<br>Count: 1",
           "Date: 2024-08-01<br>Count: 1",
           "Date: 2024-08-08<br>Count: 1",
           "Date: 2024-08-15<br>Count: 1",
           "Date: 2024-08-22<br>Count: 1",
           "Date: 2024-08-29<br>Count: 3",
           "Date: 2024-09-05<br>Count: 1",
           "Date: 2024-09-12<br>Count: 1",
           "Date: 2024-09-19<br>Count: 2",
           "Date: 2024-09-26<br>Count: 1",
           "Date: 2024-10-03<br>Count: 1",
           "Date: 2024-10-10<br>Count: 1",
           "Date: 2024-10-17<br>Count: 3",
           "Date: 2024-10-24<br>Count: 1",
           "Date: 2024-10-31<br>Count: 1",
           "Date: 2024-11-07<br>Count: 2",
           "Date: 2024-11-14<br>Count: 1",
           "Date: 2024-11-21<br>Count: 1",
           "Date: 2024-11-28<br>Count: 1",
           "Date: 2024-12-05<br>Count: 1",
           "Date: 2024-12-12<br>Count: 0",
           "Date: 2024-12-19<br>Count: 0",
           "Date: 2024-12-26<br>Count: 1",
           ""
          ],
          [
           "Date: 2024-01-05<br>Count: 0",
           "Date: 2024-01-12<br>Count: 2",
           "Date: 2024-01-19<br>Count: 1",
           "Date: 2024-01-26<br>Count: 1",
           "Date: 2024-02-02<br>Count: 1",
           "Date: 2024-02-09<br>Count: 1",
           "Date: 2024-02-16<br>Count: 0",
           "Date: 2024-02-23<br>Count: 1",
           "Date: 2024-03-01<br>Count: 0",
           "Date: 2024-03-08<br>Count: 1",
           "Date: 2024-03-15<br>Count: 1",
           "Date: 2024-03-22<br>Count: 1",
           "Date: 2024-03-29<br>Count: 1",
           "Date: 2024-04-05<br>Count: 2",
           "Date: 2024-04-12<br>Count: 1",
           "Date: 2024-04-19<br>Count: 2",
           "Date: 2024-04-26<br>Count: 2",
           "Date: 2024-05-03<br>Count: 1",
           "Date: 2024-05-10<br>Count: 1",
           "Date: 2024-05-17<br>Count: 1",
           "Date: 2024-05-24<br>Count: 2",
           "Date: 2024-05-31<br>Count: 1",
           "Date: 2024-06-07<br>Count: 2",
           "Date: 2024-06-14<br>Count: 2",
           "Date: 2024-06-21<br>Count: 1",
           "Date: 2024-06-28<br>Count: 1",
           "Date: 2024-07-05<br>Count: 2",
           "Date: 2024-07-12<br>Count: 2",
           "Date: 2024-07-19<br>Count: 1",
           "Date: 2024-07-26<br>Count: 1",
           "Date: 2024-08-02<br>Count: 1",
           "Date: 2024-08-09<br>Count: 1",
           "Date: 2024-08-16<br>Count: 0",
           "Date: 2024-08-23<br>Count: 2",
           "Date: 2024-08-30<br>Count: 1",
           "Date: 2024-09-06<br>Count: 1",
           "Date: 2024-09-13<br>Count: 1",
           "Date: 2024-09-20<br>Count: 1",
           "Date: 2024-09-27<br>Count: 1",
           "Date: 2024-10-04<br>Count: 2",
           "Date: 2024-10-11<br>Count: 1",
           "Date: 2024-10-18<br>Count: 1",
           "Date: 2024-10-25<br>Count: 2",
           "Date: 2024-11-01<br>Count: 2",
           "Date: 2024-11-08<br>Count: 1",
           "Date: 2024-11-15<br>Count: 1",
           "Date: 2024-11-22<br>Count: 2",
           "Date: 2024-11-29<br>Count: 1",
           "Date: 2024-12-06<br>Count: 0",
           "Date: 2024-12-13<br>Count: 1",
           "Date: 2024-12-20<br>Count: 1",
           "Date: 2024-12-27<br>Count: 1",
           ""
          ],
          [
           "Date: 2024-01-06<br>Count: 1",
           "Date: 2024-01-13<br>Count: 0",
           "Date: 2024-01-20<br>Count: 0",
           "Date: 2024-01-27<br>Count: 0",
           "Date: 2024-02-03<br>Count: 0",
           "Date: 2024-02-10<br>Count: 0",
           "Date: 2024-02-17<br>Count: 0",
           "Date: 2024-02-24<br>Count: 0",
           "Date: 2024-03-02<br>Count: 0",
           "Date: 2024-03-09<br>Count: 0",
           "Date: 2024-03-16<br>Count: 0",
           "Date: 2024-03-23<br>Count: 0",
           "Date: 2024-03-30<br>Count: 0",
           "Date: 2024-04-06<br>Count: 0",
           "Date: 2024-04-13<br>Count: 1",
           "Date: 2024-04-20<br>Count: 0",
           "Date: 2024-04-27<br>Count: 1",
           "Date: 2024-05-04<br>Count: 0",
           "Date: 2024-05-11<br>Count: 1",
           "Date: 2024-05-18<br>Count: 1",
           "Date: 2024-05-25<br>Count: 0",
           "Date: 2024-06-01<br>Count: 1",
           "Date: 2024-06-08<br>Count: 2",
           "Date: 2024-06-15<br>Count: 0",
           "Date: 2024-06-22<br>Count: 2",
           "Date: 2024-06-29<br>Count: 1",
           "Date: 2024-07-06<br>Count: 1",
           "Date: 2024-07-13<br>Count: 1",
           "Date: 2024-07-20<br>Count: 1",
           "Date: 2024-07-27<br>Count: 2",
           "Date: 2024-08-03<br>Count: 1",
           "Date: 2024-08-10<br>Count: 1",
           "Date: 2024-08-17<br>Count: 2",
           "Date: 2024-08-24<br>Count: 1",
           "Date: 2024-08-31<br>Count: 2",
           "Date: 2024-09-07<br>Count: 1",
           "Date: 2024-09-14<br>Count: 0",
           "Date: 2024-09-21<br>Count: 1",
           "Date: 2024-09-28<br>Count: 2",
           "Date: 2024-10-05<br>Count: 0",
           "Date: 2024-10-12<br>Count: 2",
           "Date: 2024-10-19<br>Count: 1",
           "Date: 2024-10-26<br>Count: 1",
           "Date: 2024-11-02<br>Count: 2",
           "Date: 2024-11-09<br>Count: 0",
           "Date: 2024-11-16<br>Count: 1",
           "Date: 2024-11-23<br>Count: 1",
           "Date: 2024-11-30<br>Count: 0",
           "Date: 2024-12-07<br>Count: 1",
           "Date: 2024-12-14<br>Count: 1",
           "Date: 2024-12-21<br>Count: 0",
           "Date: 2024-12-28<br>Count: 0",
           ""
          ],
          [
           "Date: 2024-01-07<br>Count: 1",
           "Date: 2024-01-14<br>Count: 1",
           "Date: 2024-01-21<br>Count: 0",
           "Date: 2024-01-28<br>Count: 0",
           "Date: 2024-02-04<br>Count: 0",
           "Date: 2024-02-11<br>Count: 0",
           "Date: 2024-02-18<br>Count: 0",
           "Date: 2024-02-25<br>Count: 0",
           "Date: 2024-03-03<br>Count: 1",
           "Date: 2024-03-10<br>Count: 0",
           "Date: 2024-03-17<br>Count: 0",
           "Date: 2024-03-24<br>Count: 0",
           "Date: 2024-03-31<br>Count: 0",
           "Date: 2024-04-07<br>Count: 2",
           "Date: 2024-04-14<br>Count: 1",
           "Date: 2024-04-21<br>Count: 0",
           "Date: 2024-04-28<br>Count: 0",
           "Date: 2024-05-05<br>Count: 1",
           "Date: 2024-05-12<br>Count: 0",
           "Date: 2024-05-19<br>Count: 1",
           "Date: 2024-05-26<br>Count: 0",
           "Date: 2024-06-02<br>Count: 0",
           "Date: 2024-06-09<br>Count: 1",
           "Date: 2024-06-16<br>Count: 1",
           "Date: 2024-06-23<br>Count: 2",
           "Date: 2024-06-30<br>Count: 1",
           "Date: 2024-07-07<br>Count: 1",
           "Date: 2024-07-14<br>Count: 1",
           "Date: 2024-07-21<br>Count: 0",
           "Date: 2024-07-28<br>Count: 1",
           "Date: 2024-08-04<br>Count: 0",
           "Date: 2024-08-11<br>Count: 1",
           "Date: 2024-08-18<br>Count: 1",
           "Date: 2024-08-25<br>Count: 2",
           "Date: 2024-09-01<br>Count: 1",
           "Date: 2024-09-08<br>Count: 1",
           "Date: 2024-09-15<br>Count: 1",
           "Date: 2024-09-22<br>Count: 1",
           "Date: 2024-09-29<br>Count: 1",
           "Date: 2024-10-06<br>Count: 0",
           "Date: 2024-10-13<br>Count: 1",
           "Date: 2024-10-20<br>Count: 1",
           "Date: 2024-10-27<br>Count: 1",
           "Date: 2024-11-03<br>Count: 1",
           "Date: 2024-11-10<br>Count: 1",
           "Date: 2024-11-17<br>Count: 0",
           "Date: 2024-11-24<br>Count: 0",
           "Date: 2024-12-01<br>Count: 0",
           "Date: 2024-12-08<br>Count: 0",
           "Date: 2024-12-15<br>Count: 0",
           "Date: 2024-12-22<br>Count: 0",
           "Date: 2024-12-29<br>Count: 1",
           ""
          ]
         ],
         "type": "heatmap",
         "x": [
          1,
          2,
          3,
          4,
          5,
          6,
          7,
          8,
          9,
          10,
          11,
          12,
          13,
          14,
          15,
          16,
          17,
          18,
          19,
          20,
          21,
          22,
          23,
          24,
          25,
          26,
          27,
          28,
          29,
          30,
          31,
          32,
          33,
          34,
          35,
          36,
          37,
          38,
          39,
          40,
          41,
          42,
          43,
          44,
          45,
          46,
          47,
          48,
          49,
          50,
          51,
          52,
          53
         ],
         "xgap": 3,
         "y": [
          "Mon",
          "Tue",
          "Wed",
          "Thu",
          "Fri",
          "Sat",
          "Sun"
         ],
         "ygap": 3,
         "z": [
          [
           1,
           0,
           1,
           1,
           1,
           2,
           1,
           2,
           1,
           1,
           1,
           1,
           1,
           1,
           1,
           1,
           1,
           1,
           1,
           1,
           1,
           1,
           0,
           1,
           1,
           1,
           1,
           2,
           1,
           1,
           3,
           1,
           1,
           2,
           1,
           2,
           1,
           1,
           2,
           1,
           1,
           1,
           1,
           1,
           1,
           1,
           1,
           1,
           2,
           2,
           1,
           1,
           1
          ],
          [
           0,
           2,
           1,
           1,
           0,
           1,
           1,
           1,
           1,
           0,
           0,
           1,
           1,
           1,
           2,
           3,
           1,
           3,
           1,
           1,
           1,
           2,
           3,
           1,
           3,
           2,
           2,
           1,
           2,
           0,
           2,
           1,
           1,
           1,
           1,
           1,
           1,
           2,
           1,
           1,
           1,
           1,
           1,
           1,
           2,
           1,
           3,
           1,
           0,
           0,
           1,
           0,
           0
          ],
          [
           1,
           2,
           1,
           1,
           1,
           1,
           1,
           0,
           1,
           1,
           1,
           1,
           1,
           1,
           1,
           1,
           2,
           1,
           2,
           1,
           1,
           1,
           2,
           1,
           1,
           1,
           2,
           2,
           2,
           1,
           1,
           1,
           2,
           1,
           1,
           2,
           1,
           1,
           1,
           1,
           2,
           1,
           2,
           1,
           1,
           2,
           2,
           1,
           1,
           1,
           2,
           0,
           0
          ],
          [
           2,
           1,
           1,
           2,
           0,
           1,
           1,
           2,
           1,
           1,
           2,
           0,
           1,
           0,
           2,
           1,
           2,
           1,
           1,
           1,
           0,
           1,
           1,
           1,
           3,
           2,
           1,
           1,
           1,
           1,
           1,
           1,
           1,
           1,
           3,
           1,
           1,
           2,
           1,
           1,
           1,
           3,
           1,
           1,
           2,
           1,
           1,
           1,
           1,
           0,
           0,
           1,
           0
          ],
          [
           0,
           2,
           1,
           1,
           1,
           1,
           0,
           1,
           0,
           1,
           1,
           1,
           1,
           2,
           1,
           2,
           2,
           1,
           1,
           1,
           2,
           1,
           2,
           2,
           1,
           1,
           2,
           2,
           1,
           1,
           1,
           1,
           0,
           2,
           1,
           1,
           1,
           1,
           1,
           2,
           1,
           1,
           2,
           2,
           1,
           1,
           2,
           1,
           0,
           1,
           1,
           1,
           0
          ],
          [
           1,
           0,
           0,
           0,
           0,
           0,
           0,
           0,
           0,
           0,
           0,
           0,
           0,
           0,
           1,
           0,
           1,
           0,
           1,
           1,
           0,
           1,
           2,
           0,
           2,
           1,
           1,
           1,
           1,
           2,
           1,
           1,
           2,
           1,
           2,
           1,
           0,
           1,
           2,
           0,
           2,
           1,
           1,
           2,
           0,
           1,
           1,
           0,
           1,
           1,
           0,
           0,
           0
          ],
          [
           1,
           1,
           0,
           0,
           0,
           0,
           0,
           0,
           1,
           0,
           0,
           0,
           0,
           2,
           1,
           0,
           0,
           1,
           0,
           1,
           0,
           0,
           1,
           1,
           2,
           1,
           1,
           1,
           0,
           1,
           0,
           1,
           1,
           2,
           1,
           1,
           1,
           1,
           1,
           0,
           1,
           1,
           1,
           1,
           1,
           0,
           0,
           0,
           0,
           0,
           0,
           1,
           0
          ]
         ]
        }
       ],
       "layout": {
        "height": 200,
        "margin": {
         "b": 20,
         "l": 20,
         "r": 20,
         "t": 40
        },
        "plot_bgcolor": "white",
        "shapes": [
         {
          "line": {
           "color": "rgba(0,0,0,0.2)",
           "width": 1
          },
          "type": "line",
          "x0": 3.5,
          "x1": 3.5,
          "y0": -0.5,
          "y1": 6.5
         },
         {
          "line": {
           "color": "rgba(0,0,0,0.2)",
           "width": 1
          },
          "type": "line",
          "x0": 7.5,
          "x1": 7.5,
          "y0": -0.5,
          "y1": 6.5
         },
         {
          "line": {
           "color": "rgba(0,0,0,0.2)",
           "width": 1
          },
          "type": "line",
          "x0": 12.5,
          "x1": 12.5,
          "y0": -0.5,
          "y1": 6.5
         },
         {
          "line": {
           "color": "rgba(0,0,0,0.2)",
           "width": 1
          },
          "type": "line",
          "x0": 16.5,
          "x1": 16.5,
          "y0": -0.5,
          "y1": 6.5
         },
         {
          "line": {
           "color": "rgba(0,0,0,0.2)",
           "width": 1
          },
          "type": "line",
          "x0": 20.5,
          "x1": 20.5,
          "y0": -0.5,
          "y1": 6.5
         },
         {
          "line": {
           "color": "rgba(0,0,0,0.2)",
           "width": 1
          },
          "type": "line",
          "x0": 25.5,
          "x1": 25.5,
          "y0": -0.5,
          "y1": 6.5
         },
         {
          "line": {
           "color": "rgba(0,0,0,0.2)",
           "width": 1
          },
          "type": "line",
          "x0": 29.5,
          "x1": 29.5,
          "y0": -0.5,
          "y1": 6.5
         },
         {
          "line": {
           "color": "rgba(0,0,0,0.2)",
           "width": 1
          },
          "type": "line",
          "x0": 33.5,
          "x1": 33.5,
          "y0": -0.5,
          "y1": 6.5
         },
         {
          "line": {
           "color": "rgba(0,0,0,0.2)",
           "width": 1
          },
          "type": "line",
          "x0": 38.5,
          "x1": 38.5,
          "y0": -0.5,
          "y1": 6.5
         },
         {
          "line": {
           "color": "rgba(0,0,0,0.2)",
           "width": 1
          },
          "type": "line",
          "x0": 42.5,
          "x1": 42.5,
          "y0": -0.5,
          "y1": 6.5
         },
         {
          "line": {
           "color": "rgba(0,0,0,0.2)",
           "width": 1
          },
          "type": "line",
          "x0": 46.5,
          "x1": 46.5,
          "y0": -0.5,
          "y1": 6.5
         }
        ],
        "template": {
         "data": {
          "bar": [
           {
            "error_x": {
             "color": "#2a3f5f"
            },
            "error_y": {
             "color": "#2a3f5f"
            },
            "marker": {
             "line": {
              "color": "#E5ECF6",
              "width": 0.5
             },
             "pattern": {
              "fillmode": "overlay",
              "size": 10,
              "solidity": 0.2
             }
            },
            "type": "bar"
           }
          ],
          "barpolar": [
           {
            "marker": {
             "line": {
              "color": "#E5ECF6",
              "width": 0.5
             },
             "pattern": {
              "fillmode": "overlay",
              "size": 10,
              "solidity": 0.2
             }
            },
            "type": "barpolar"
           }
          ],
          "carpet": [
           {
            "aaxis": {
             "endlinecolor": "#2a3f5f",
             "gridcolor": "white",
             "linecolor": "white",
             "minorgridcolor": "white",
             "startlinecolor": "#2a3f5f"
            },
            "baxis": {
             "endlinecolor": "#2a3f5f",
             "gridcolor": "white",
             "linecolor": "white",
             "minorgridcolor": "white",
             "startlinecolor": "#2a3f5f"
            },
            "type": "carpet"
           }
          ],
          "choropleth": [
           {
            "colorbar": {
             "outlinewidth": 0,
             "ticks": ""
            },
            "type": "choropleth"
           }
          ],
          "contour": [
           {
            "colorbar": {
             "outlinewidth": 0,
             "ticks": ""
            },
            "colorscale": [
             [
              0,
              "#0d0887"
             ],
             [
              0.1111111111111111,
              "#46039f"
             ],
             [
              0.2222222222222222,
              "#7201a8"
             ],
             [
              0.3333333333333333,
              "#9c179e"
             ],
             [
              0.4444444444444444,
              "#bd3786"
             ],
             [
              0.5555555555555556,
              "#d8576b"
             ],
             [
              0.6666666666666666,
              "#ed7953"
             ],
             [
              0.7777777777777778,
              "#fb9f3a"
             ],
             [
              0.8888888888888888,
              "#fdca26"
             ],
             [
              1,
              "#f0f921"
             ]
            ],
            "type": "contour"
           }
          ],
          "contourcarpet": [
           {
            "colorbar": {
             "outlinewidth": 0,
             "ticks": ""
            },
            "type": "contourcarpet"
           }
          ],
          "heatmap": [
           {
            "colorbar": {
             "outlinewidth": 0,
             "ticks": ""
            },
            "colorscale": [
             [
              0,
              "#0d0887"
             ],
             [
              0.1111111111111111,
              "#46039f"
             ],
             [
              0.2222222222222222,
              "#7201a8"
             ],
             [
              0.3333333333333333,
              "#9c179e"
             ],
             [
              0.4444444444444444,
              "#bd3786"
             ],
             [
              0.5555555555555556,
              "#d8576b"
             ],
             [
              0.6666666666666666,
              "#ed7953"
             ],
             [
              0.7777777777777778,
              "#fb9f3a"
             ],
             [
              0.8888888888888888,
              "#fdca26"
             ],
             [
              1,
              "#f0f921"
             ]
            ],
            "type": "heatmap"
           }
          ],
          "heatmapgl": [
           {
            "colorbar": {
             "outlinewidth": 0,
             "ticks": ""
            },
            "colorscale": [
             [
              0,
              "#0d0887"
             ],
             [
              0.1111111111111111,
              "#46039f"
             ],
             [
              0.2222222222222222,
              "#7201a8"
             ],
             [
              0.3333333333333333,
              "#9c179e"
             ],
             [
              0.4444444444444444,
              "#bd3786"
             ],
             [
              0.5555555555555556,
              "#d8576b"
             ],
             [
              0.6666666666666666,
              "#ed7953"
             ],
             [
              0.7777777777777778,
              "#fb9f3a"
             ],
             [
              0.8888888888888888,
              "#fdca26"
             ],
             [
              1,
              "#f0f921"
             ]
            ],
            "type": "heatmapgl"
           }
          ],
          "histogram": [
           {
            "marker": {
             "pattern": {
              "fillmode": "overlay",
              "size": 10,
              "solidity": 0.2
             }
            },
            "type": "histogram"
           }
          ],
          "histogram2d": [
           {
            "colorbar": {
             "outlinewidth": 0,
             "ticks": ""
            },
            "colorscale": [
             [
              0,
              "#0d0887"
             ],
             [
              0.1111111111111111,
              "#46039f"
             ],
             [
              0.2222222222222222,
              "#7201a8"
             ],
             [
              0.3333333333333333,
              "#9c179e"
             ],
             [
              0.4444444444444444,
              "#bd3786"
             ],
             [
              0.5555555555555556,
              "#d8576b"
             ],
             [
              0.6666666666666666,
              "#ed7953"
             ],
             [
              0.7777777777777778,
              "#fb9f3a"
             ],
             [
              0.8888888888888888,
              "#fdca26"
             ],
             [
              1,
              "#f0f921"
             ]
            ],
            "type": "histogram2d"
           }
          ],
          "histogram2dcontour": [
           {
            "colorbar": {
             "outlinewidth": 0,
             "ticks": ""
            },
            "colorscale": [
             [
              0,
              "#0d0887"
             ],
             [
              0.1111111111111111,
              "#46039f"
             ],
             [
              0.2222222222222222,
              "#7201a8"
             ],
             [
              0.3333333333333333,
              "#9c179e"
             ],
             [
              0.4444444444444444,
              "#bd3786"
             ],
             [
              0.5555555555555556,
              "#d8576b"
             ],
             [
              0.6666666666666666,
              "#ed7953"
             ],
             [
              0.7777777777777778,
              "#fb9f3a"
             ],
             [
              0.8888888888888888,
              "#fdca26"
             ],
             [
              1,
              "#f0f921"
             ]
            ],
            "type": "histogram2dcontour"
           }
          ],
          "mesh3d": [
           {
            "colorbar": {
             "outlinewidth": 0,
             "ticks": ""
            },
            "type": "mesh3d"
           }
          ],
          "parcoords": [
           {
            "line": {
             "colorbar": {
              "outlinewidth": 0,
              "ticks": ""
             }
            },
            "type": "parcoords"
           }
          ],
          "pie": [
           {
            "automargin": true,
            "type": "pie"
           }
          ],
          "scatter": [
           {
            "fillpattern": {
             "fillmode": "overlay",
             "size": 10,
             "solidity": 0.2
            },
            "type": "scatter"
           }
          ],
          "scatter3d": [
           {
            "line": {
             "colorbar": {
              "outlinewidth": 0,
              "ticks": ""
             }
            },
            "marker": {
             "colorbar": {
              "outlinewidth": 0,
              "ticks": ""
             }
            },
            "type": "scatter3d"
           }
          ],
          "scattercarpet": [
           {
            "marker": {
             "colorbar": {
              "outlinewidth": 0,
              "ticks": ""
             }
            },
            "type": "scattercarpet"
           }
          ],
          "scattergeo": [
           {
            "marker": {
             "colorbar": {
              "outlinewidth": 0,
              "ticks": ""
             }
            },
            "type": "scattergeo"
           }
          ],
          "scattergl": [
           {
            "marker": {
             "colorbar": {
              "outlinewidth": 0,
              "ticks": ""
             }
            },
            "type": "scattergl"
           }
          ],
          "scattermapbox": [
           {
            "marker": {
             "colorbar": {
              "outlinewidth": 0,
              "ticks": ""
             }
            },
            "type": "scattermapbox"
           }
          ],
          "scatterpolar": [
           {
            "marker": {
             "colorbar": {
              "outlinewidth": 0,
              "ticks": ""
             }
            },
            "type": "scatterpolar"
           }
          ],
          "scatterpolargl": [
           {
            "marker": {
             "colorbar": {
              "outlinewidth": 0,
              "ticks": ""
             }
            },
            "type": "scatterpolargl"
           }
          ],
          "scatterternary": [
           {
            "marker": {
             "colorbar": {
              "outlinewidth": 0,
              "ticks": ""
             }
            },
            "type": "scatterternary"
           }
          ],
          "surface": [
           {
            "colorbar": {
             "outlinewidth": 0,
             "ticks": ""
            },
            "colorscale": [
             [
              0,
              "#0d0887"
             ],
             [
              0.1111111111111111,
              "#46039f"
             ],
             [
              0.2222222222222222,
              "#7201a8"
             ],
             [
              0.3333333333333333,
              "#9c179e"
             ],
             [
              0.4444444444444444,
              "#bd3786"
             ],
             [
              0.5555555555555556,
              "#d8576b"
             ],
             [
              0.6666666666666666,
              "#ed7953"
             ],
             [
              0.7777777777777778,
              "#fb9f3a"
             ],
             [
              0.8888888888888888,
              "#fdca26"
             ],
             [
              1,
              "#f0f921"
             ]
            ],
            "type": "surface"
           }
          ],
          "table": [
           {
            "cells": {
             "fill": {
              "color": "#EBF0F8"
             },
             "line": {
              "color": "white"
             }
            },
            "header": {
             "fill": {
              "color": "#C8D4E3"
             },
             "line": {
              "color": "white"
             }
            },
            "type": "table"
           }
          ]
         },
         "layout": {
          "annotationdefaults": {
           "arrowcolor": "#2a3f5f",
           "arrowhead": 0,
           "arrowwidth": 1
          },
          "autotypenumbers": "strict",
          "coloraxis": {
           "colorbar": {
            "outlinewidth": 0,
            "ticks": ""
           }
          },
          "colorscale": {
           "diverging": [
            [
             0,
             "#8e0152"
            ],
            [
             0.1,
             "#c51b7d"
            ],
            [
             0.2,
             "#de77ae"
            ],
            [
             0.3,
             "#f1b6da"
            ],
            [
             0.4,
             "#fde0ef"
            ],
            [
             0.5,
             "#f7f7f7"
            ],
            [
             0.6,
             "#e6f5d0"
            ],
            [
             0.7,
             "#b8e186"
            ],
            [
             0.8,
             "#7fbc41"
            ],
            [
             0.9,
             "#4d9221"
            ],
            [
             1,
             "#276419"
            ]
           ],
           "sequential": [
            [
             0,
             "#0d0887"
            ],
            [
             0.1111111111111111,
             "#46039f"
            ],
            [
             0.2222222222222222,
             "#7201a8"
            ],
            [
             0.3333333333333333,
             "#9c179e"
            ],
            [
             0.4444444444444444,
             "#bd3786"
            ],
            [
             0.5555555555555556,
             "#d8576b"
            ],
            [
             0.6666666666666666,
             "#ed7953"
            ],
            [
             0.7777777777777778,
             "#fb9f3a"
            ],
            [
             0.8888888888888888,
             "#fdca26"
            ],
            [
             1,
             "#f0f921"
            ]
           ],
           "sequentialminus": [
            [
             0,
             "#0d0887"
            ],
            [
             0.1111111111111111,
             "#46039f"
            ],
            [
             0.2222222222222222,
             "#7201a8"
            ],
            [
             0.3333333333333333,
             "#9c179e"
            ],
            [
             0.4444444444444444,
             "#bd3786"
            ],
            [
             0.5555555555555556,
             "#d8576b"
            ],
            [
             0.6666666666666666,
             "#ed7953"
            ],
            [
             0.7777777777777778,
             "#fb9f3a"
            ],
            [
             0.8888888888888888,
             "#fdca26"
            ],
            [
             1,
             "#f0f921"
            ]
           ]
          },
          "colorway": [
           "#636efa",
           "#EF553B",
           "#00cc96",
           "#ab63fa",
           "#FFA15A",
           "#19d3f3",
           "#FF6692",
           "#B6E880",
           "#FF97FF",
           "#FECB52"
          ],
          "font": {
           "color": "#2a3f5f"
          },
          "geo": {
           "bgcolor": "white",
           "lakecolor": "white",
           "landcolor": "#E5ECF6",
           "showlakes": true,
           "showland": true,
           "subunitcolor": "white"
          },
          "hoverlabel": {
           "align": "left"
          },
          "hovermode": "closest",
          "mapbox": {
           "style": "light"
          },
          "paper_bgcolor": "white",
          "plot_bgcolor": "#E5ECF6",
          "polar": {
           "angularaxis": {
            "gridcolor": "white",
            "linecolor": "white",
            "ticks": ""
           },
           "bgcolor": "#E5ECF6",
           "radialaxis": {
            "gridcolor": "white",
            "linecolor": "white",
            "ticks": ""
           }
          },
          "scene": {
           "xaxis": {
            "backgroundcolor": "#E5ECF6",
            "gridcolor": "white",
            "gridwidth": 2,
            "linecolor": "white",
            "showbackground": true,
            "ticks": "",
            "zerolinecolor": "white"
           },
           "yaxis": {
            "backgroundcolor": "#E5ECF6",
            "gridcolor": "white",
            "gridwidth": 2,
            "linecolor": "white",
            "showbackground": true,
            "ticks": "",
            "zerolinecolor": "white"
           },
           "zaxis": {
            "backgroundcolor": "#E5ECF6",
            "gridcolor": "white",
            "gridwidth": 2,
            "linecolor": "white",
            "showbackground": true,
            "ticks": "",
            "zerolinecolor": "white"
           }
          },
          "shapedefaults": {
           "line": {
            "color": "#2a3f5f"
           }
          },
          "ternary": {
           "aaxis": {
            "gridcolor": "white",
            "linecolor": "white",
            "ticks": ""
           },
           "baxis": {
            "gridcolor": "white",
            "linecolor": "white",
            "ticks": ""
           },
           "bgcolor": "#E5ECF6",
           "caxis": {
            "gridcolor": "white",
            "linecolor": "white",
            "ticks": ""
           }
          },
          "title": {
           "x": 0.05
          },
          "xaxis": {
           "automargin": true,
           "gridcolor": "white",
           "linecolor": "white",
           "ticks": "",
           "title": {
            "standoff": 15
           },
           "zerolinecolor": "white",
           "zerolinewidth": 2
          },
          "yaxis": {
           "automargin": true,
           "gridcolor": "white",
           "linecolor": "white",
           "ticks": "",
           "title": {
            "standoff": 15
           },
           "zerolinecolor": "white",
           "zerolinewidth": 2
          }
         }
        },
        "title": {
         "text": "Meri Nova's Activity Heatmap - 2024"
        },
        "xaxis": {
         "showgrid": false
        },
        "yaxis": {
         "autorange": "reversed",
         "showgrid": false
        }
       }
      }
     },
     "metadata": {},
     "output_type": "display_data"
    },
    {
     "data": {
      "application/vnd.plotly.v1+json": {
       "config": {
        "plotlyServerURL": "https://plot.ly"
       },
       "data": [
        {
         "colorscale": [
          [
           0,
           "rgb(255,255,229)"
          ],
          [
           0.125,
           "rgb(247,252,185)"
          ],
          [
           0.25,
           "rgb(217,240,163)"
          ],
          [
           0.375,
           "rgb(173,221,142)"
          ],
          [
           0.5,
           "rgb(120,198,121)"
          ],
          [
           0.625,
           "rgb(65,171,93)"
          ],
          [
           0.75,
           "rgb(35,132,67)"
          ],
          [
           0.875,
           "rgb(0,104,55)"
          ],
          [
           1,
           "rgb(0,69,41)"
          ]
         ],
         "hoverinfo": "text",
         "showscale": true,
         "text": [
          [
           "",
           "Date: 2025-01-06<br>Count: 1",
           "Date: 2025-01-13<br>Count: 1",
           "Date: 2025-01-20<br>Count: 0",
           "Date: 2025-01-27<br>Count: 0",
           "Date: 2025-02-03<br>Count: 0",
           "Date: 2025-02-10<br>Count: 0",
           "Date: 2025-02-17<br>Count: 0",
           "Date: 2025-02-24<br>Count: 0",
           "Date: 2025-03-03<br>Count: 0",
           "Date: 2025-03-10<br>Count: 0",
           "Date: 2025-03-17<br>Count: 0",
           "Date: 2025-03-24<br>Count: 0",
           "Date: 2025-03-31<br>Count: 0",
           "Date: 2025-04-07<br>Count: 0",
           "Date: 2025-04-14<br>Count: 0",
           "Date: 2025-04-21<br>Count: 0",
           "Date: 2025-04-28<br>Count: 0",
           "Date: 2025-05-05<br>Count: 0",
           "Date: 2025-05-12<br>Count: 0",
           "Date: 2025-05-19<br>Count: 0",
           "Date: 2025-05-26<br>Count: 0",
           "Date: 2025-06-02<br>Count: 0",
           "Date: 2025-06-09<br>Count: 0",
           "Date: 2025-06-16<br>Count: 0",
           "Date: 2025-06-23<br>Count: 0",
           "Date: 2025-06-30<br>Count: 0",
           "Date: 2025-07-07<br>Count: 0",
           "Date: 2025-07-14<br>Count: 0",
           "Date: 2025-07-21<br>Count: 0",
           "Date: 2025-07-28<br>Count: 0",
           "Date: 2025-08-04<br>Count: 0",
           "Date: 2025-08-11<br>Count: 0",
           "Date: 2025-08-18<br>Count: 0",
           "Date: 2025-08-25<br>Count: 0",
           "Date: 2025-09-01<br>Count: 0",
           "Date: 2025-09-08<br>Count: 0",
           "Date: 2025-09-15<br>Count: 0",
           "Date: 2025-09-22<br>Count: 0",
           "Date: 2025-09-29<br>Count: 0",
           "Date: 2025-10-06<br>Count: 0",
           "Date: 2025-10-13<br>Count: 0",
           "Date: 2025-10-20<br>Count: 0",
           "Date: 2025-10-27<br>Count: 0",
           "Date: 2025-11-03<br>Count: 0",
           "Date: 2025-11-10<br>Count: 0",
           "Date: 2025-11-17<br>Count: 0",
           "Date: 2025-11-24<br>Count: 0",
           "Date: 2025-12-01<br>Count: 0",
           "Date: 2025-12-08<br>Count: 0",
           "Date: 2025-12-15<br>Count: 0",
           "Date: 2025-12-22<br>Count: 0",
           "Date: 2025-12-29<br>Count: 0"
          ],
          [
           "",
           "Date: 2025-01-07<br>Count: 1",
           "Date: 2025-01-14<br>Count: 1",
           "Date: 2025-01-21<br>Count: 0",
           "Date: 2025-01-28<br>Count: 0",
           "Date: 2025-02-04<br>Count: 0",
           "Date: 2025-02-11<br>Count: 0",
           "Date: 2025-02-18<br>Count: 0",
           "Date: 2025-02-25<br>Count: 0",
           "Date: 2025-03-04<br>Count: 0",
           "Date: 2025-03-11<br>Count: 0",
           "Date: 2025-03-18<br>Count: 0",
           "Date: 2025-03-25<br>Count: 0",
           "Date: 2025-04-01<br>Count: 0",
           "Date: 2025-04-08<br>Count: 0",
           "Date: 2025-04-15<br>Count: 0",
           "Date: 2025-04-22<br>Count: 0",
           "Date: 2025-04-29<br>Count: 0",
           "Date: 2025-05-06<br>Count: 0",
           "Date: 2025-05-13<br>Count: 0",
           "Date: 2025-05-20<br>Count: 0",
           "Date: 2025-05-27<br>Count: 0",
           "Date: 2025-06-03<br>Count: 0",
           "Date: 2025-06-10<br>Count: 0",
           "Date: 2025-06-17<br>Count: 0",
           "Date: 2025-06-24<br>Count: 0",
           "Date: 2025-07-01<br>Count: 0",
           "Date: 2025-07-08<br>Count: 0",
           "Date: 2025-07-15<br>Count: 0",
           "Date: 2025-07-22<br>Count: 0",
           "Date: 2025-07-29<br>Count: 0",
           "Date: 2025-08-05<br>Count: 0",
           "Date: 2025-08-12<br>Count: 0",
           "Date: 2025-08-19<br>Count: 0",
           "Date: 2025-08-26<br>Count: 0",
           "Date: 2025-09-02<br>Count: 0",
           "Date: 2025-09-09<br>Count: 0",
           "Date: 2025-09-16<br>Count: 0",
           "Date: 2025-09-23<br>Count: 0",
           "Date: 2025-09-30<br>Count: 0",
           "Date: 2025-10-07<br>Count: 0",
           "Date: 2025-10-14<br>Count: 0",
           "Date: 2025-10-21<br>Count: 0",
           "Date: 2025-10-28<br>Count: 0",
           "Date: 2025-11-04<br>Count: 0",
           "Date: 2025-11-11<br>Count: 0",
           "Date: 2025-11-18<br>Count: 0",
           "Date: 2025-11-25<br>Count: 0",
           "Date: 2025-12-02<br>Count: 0",
           "Date: 2025-12-09<br>Count: 0",
           "Date: 2025-12-16<br>Count: 0",
           "Date: 2025-12-23<br>Count: 0",
           "Date: 2025-12-30<br>Count: 0"
          ],
          [
           "Date: 2025-01-01<br>Count: 1",
           "Date: 2025-01-08<br>Count: 0",
           "Date: 2025-01-15<br>Count: 1",
           "Date: 2025-01-22<br>Count: 0",
           "Date: 2025-01-29<br>Count: 0",
           "Date: 2025-02-05<br>Count: 0",
           "Date: 2025-02-12<br>Count: 0",
           "Date: 2025-02-19<br>Count: 0",
           "Date: 2025-02-26<br>Count: 0",
           "Date: 2025-03-05<br>Count: 0",
           "Date: 2025-03-12<br>Count: 0",
           "Date: 2025-03-19<br>Count: 0",
           "Date: 2025-03-26<br>Count: 0",
           "Date: 2025-04-02<br>Count: 0",
           "Date: 2025-04-09<br>Count: 0",
           "Date: 2025-04-16<br>Count: 0",
           "Date: 2025-04-23<br>Count: 0",
           "Date: 2025-04-30<br>Count: 0",
           "Date: 2025-05-07<br>Count: 0",
           "Date: 2025-05-14<br>Count: 0",
           "Date: 2025-05-21<br>Count: 0",
           "Date: 2025-05-28<br>Count: 0",
           "Date: 2025-06-04<br>Count: 0",
           "Date: 2025-06-11<br>Count: 0",
           "Date: 2025-06-18<br>Count: 0",
           "Date: 2025-06-25<br>Count: 0",
           "Date: 2025-07-02<br>Count: 0",
           "Date: 2025-07-09<br>Count: 0",
           "Date: 2025-07-16<br>Count: 0",
           "Date: 2025-07-23<br>Count: 0",
           "Date: 2025-07-30<br>Count: 0",
           "Date: 2025-08-06<br>Count: 0",
           "Date: 2025-08-13<br>Count: 0",
           "Date: 2025-08-20<br>Count: 0",
           "Date: 2025-08-27<br>Count: 0",
           "Date: 2025-09-03<br>Count: 0",
           "Date: 2025-09-10<br>Count: 0",
           "Date: 2025-09-17<br>Count: 0",
           "Date: 2025-09-24<br>Count: 0",
           "Date: 2025-10-01<br>Count: 0",
           "Date: 2025-10-08<br>Count: 0",
           "Date: 2025-10-15<br>Count: 0",
           "Date: 2025-10-22<br>Count: 0",
           "Date: 2025-10-29<br>Count: 0",
           "Date: 2025-11-05<br>Count: 0",
           "Date: 2025-11-12<br>Count: 0",
           "Date: 2025-11-19<br>Count: 0",
           "Date: 2025-11-26<br>Count: 0",
           "Date: 2025-12-03<br>Count: 0",
           "Date: 2025-12-10<br>Count: 0",
           "Date: 2025-12-17<br>Count: 0",
           "Date: 2025-12-24<br>Count: 0",
           "Date: 2025-12-31<br>Count: 0"
          ],
          [
           "Date: 2025-01-02<br>Count: 1",
           "Date: 2025-01-09<br>Count: 1",
           "Date: 2025-01-16<br>Count: 1",
           "Date: 2025-01-23<br>Count: 0",
           "Date: 2025-01-30<br>Count: 0",
           "Date: 2025-02-06<br>Count: 0",
           "Date: 2025-02-13<br>Count: 0",
           "Date: 2025-02-20<br>Count: 0",
           "Date: 2025-02-27<br>Count: 0",
           "Date: 2025-03-06<br>Count: 0",
           "Date: 2025-03-13<br>Count: 0",
           "Date: 2025-03-20<br>Count: 0",
           "Date: 2025-03-27<br>Count: 0",
           "Date: 2025-04-03<br>Count: 0",
           "Date: 2025-04-10<br>Count: 0",
           "Date: 2025-04-17<br>Count: 0",
           "Date: 2025-04-24<br>Count: 0",
           "Date: 2025-05-01<br>Count: 0",
           "Date: 2025-05-08<br>Count: 0",
           "Date: 2025-05-15<br>Count: 0",
           "Date: 2025-05-22<br>Count: 0",
           "Date: 2025-05-29<br>Count: 0",
           "Date: 2025-06-05<br>Count: 0",
           "Date: 2025-06-12<br>Count: 0",
           "Date: 2025-06-19<br>Count: 0",
           "Date: 2025-06-26<br>Count: 0",
           "Date: 2025-07-03<br>Count: 0",
           "Date: 2025-07-10<br>Count: 0",
           "Date: 2025-07-17<br>Count: 0",
           "Date: 2025-07-24<br>Count: 0",
           "Date: 2025-07-31<br>Count: 0",
           "Date: 2025-08-07<br>Count: 0",
           "Date: 2025-08-14<br>Count: 0",
           "Date: 2025-08-21<br>Count: 0",
           "Date: 2025-08-28<br>Count: 0",
           "Date: 2025-09-04<br>Count: 0",
           "Date: 2025-09-11<br>Count: 0",
           "Date: 2025-09-18<br>Count: 0",
           "Date: 2025-09-25<br>Count: 0",
           "Date: 2025-10-02<br>Count: 0",
           "Date: 2025-10-09<br>Count: 0",
           "Date: 2025-10-16<br>Count: 0",
           "Date: 2025-10-23<br>Count: 0",
           "Date: 2025-10-30<br>Count: 0",
           "Date: 2025-11-06<br>Count: 0",
           "Date: 2025-11-13<br>Count: 0",
           "Date: 2025-11-20<br>Count: 0",
           "Date: 2025-11-27<br>Count: 0",
           "Date: 2025-12-04<br>Count: 0",
           "Date: 2025-12-11<br>Count: 0",
           "Date: 2025-12-18<br>Count: 0",
           "Date: 2025-12-25<br>Count: 0",
           ""
          ],
          [
           "Date: 2025-01-03<br>Count: 1",
           "Date: 2025-01-10<br>Count: 0",
           "Date: 2025-01-17<br>Count: 1",
           "Date: 2025-01-24<br>Count: 0",
           "Date: 2025-01-31<br>Count: 0",
           "Date: 2025-02-07<br>Count: 0",
           "Date: 2025-02-14<br>Count: 0",
           "Date: 2025-02-21<br>Count: 0",
           "Date: 2025-02-28<br>Count: 0",
           "Date: 2025-03-07<br>Count: 0",
           "Date: 2025-03-14<br>Count: 0",
           "Date: 2025-03-21<br>Count: 0",
           "Date: 2025-03-28<br>Count: 0",
           "Date: 2025-04-04<br>Count: 0",
           "Date: 2025-04-11<br>Count: 0",
           "Date: 2025-04-18<br>Count: 0",
           "Date: 2025-04-25<br>Count: 0",
           "Date: 2025-05-02<br>Count: 0",
           "Date: 2025-05-09<br>Count: 0",
           "Date: 2025-05-16<br>Count: 0",
           "Date: 2025-05-23<br>Count: 0",
           "Date: 2025-05-30<br>Count: 0",
           "Date: 2025-06-06<br>Count: 0",
           "Date: 2025-06-13<br>Count: 0",
           "Date: 2025-06-20<br>Count: 0",
           "Date: 2025-06-27<br>Count: 0",
           "Date: 2025-07-04<br>Count: 0",
           "Date: 2025-07-11<br>Count: 0",
           "Date: 2025-07-18<br>Count: 0",
           "Date: 2025-07-25<br>Count: 0",
           "Date: 2025-08-01<br>Count: 0",
           "Date: 2025-08-08<br>Count: 0",
           "Date: 2025-08-15<br>Count: 0",
           "Date: 2025-08-22<br>Count: 0",
           "Date: 2025-08-29<br>Count: 0",
           "Date: 2025-09-05<br>Count: 0",
           "Date: 2025-09-12<br>Count: 0",
           "Date: 2025-09-19<br>Count: 0",
           "Date: 2025-09-26<br>Count: 0",
           "Date: 2025-10-03<br>Count: 0",
           "Date: 2025-10-10<br>Count: 0",
           "Date: 2025-10-17<br>Count: 0",
           "Date: 2025-10-24<br>Count: 0",
           "Date: 2025-10-31<br>Count: 0",
           "Date: 2025-11-07<br>Count: 0",
           "Date: 2025-11-14<br>Count: 0",
           "Date: 2025-11-21<br>Count: 0",
           "Date: 2025-11-28<br>Count: 0",
           "Date: 2025-12-05<br>Count: 0",
           "Date: 2025-12-12<br>Count: 0",
           "Date: 2025-12-19<br>Count: 0",
           "Date: 2025-12-26<br>Count: 0",
           ""
          ],
          [
           "Date: 2025-01-04<br>Count: 0",
           "Date: 2025-01-11<br>Count: 1",
           "Date: 2025-01-18<br>Count: 0",
           "Date: 2025-01-25<br>Count: 0",
           "Date: 2025-02-01<br>Count: 0",
           "Date: 2025-02-08<br>Count: 0",
           "Date: 2025-02-15<br>Count: 0",
           "Date: 2025-02-22<br>Count: 0",
           "Date: 2025-03-01<br>Count: 0",
           "Date: 2025-03-08<br>Count: 0",
           "Date: 2025-03-15<br>Count: 0",
           "Date: 2025-03-22<br>Count: 0",
           "Date: 2025-03-29<br>Count: 0",
           "Date: 2025-04-05<br>Count: 0",
           "Date: 2025-04-12<br>Count: 0",
           "Date: 2025-04-19<br>Count: 0",
           "Date: 2025-04-26<br>Count: 0",
           "Date: 2025-05-03<br>Count: 0",
           "Date: 2025-05-10<br>Count: 0",
           "Date: 2025-05-17<br>Count: 0",
           "Date: 2025-05-24<br>Count: 0",
           "Date: 2025-05-31<br>Count: 0",
           "Date: 2025-06-07<br>Count: 0",
           "Date: 2025-06-14<br>Count: 0",
           "Date: 2025-06-21<br>Count: 0",
           "Date: 2025-06-28<br>Count: 0",
           "Date: 2025-07-05<br>Count: 0",
           "Date: 2025-07-12<br>Count: 0",
           "Date: 2025-07-19<br>Count: 0",
           "Date: 2025-07-26<br>Count: 0",
           "Date: 2025-08-02<br>Count: 0",
           "Date: 2025-08-09<br>Count: 0",
           "Date: 2025-08-16<br>Count: 0",
           "Date: 2025-08-23<br>Count: 0",
           "Date: 2025-08-30<br>Count: 0",
           "Date: 2025-09-06<br>Count: 0",
           "Date: 2025-09-13<br>Count: 0",
           "Date: 2025-09-20<br>Count: 0",
           "Date: 2025-09-27<br>Count: 0",
           "Date: 2025-10-04<br>Count: 0",
           "Date: 2025-10-11<br>Count: 0",
           "Date: 2025-10-18<br>Count: 0",
           "Date: 2025-10-25<br>Count: 0",
           "Date: 2025-11-01<br>Count: 0",
           "Date: 2025-11-08<br>Count: 0",
           "Date: 2025-11-15<br>Count: 0",
           "Date: 2025-11-22<br>Count: 0",
           "Date: 2025-11-29<br>Count: 0",
           "Date: 2025-12-06<br>Count: 0",
           "Date: 2025-12-13<br>Count: 0",
           "Date: 2025-12-20<br>Count: 0",
           "Date: 2025-12-27<br>Count: 0",
           ""
          ],
          [
           "Date: 2025-01-05<br>Count: 0",
           "Date: 2025-01-12<br>Count: 0",
           "Date: 2025-01-19<br>Count: 0",
           "Date: 2025-01-26<br>Count: 0",
           "Date: 2025-02-02<br>Count: 0",
           "Date: 2025-02-09<br>Count: 0",
           "Date: 2025-02-16<br>Count: 0",
           "Date: 2025-02-23<br>Count: 0",
           "Date: 2025-03-02<br>Count: 0",
           "Date: 2025-03-09<br>Count: 0",
           "Date: 2025-03-16<br>Count: 0",
           "Date: 2025-03-23<br>Count: 0",
           "Date: 2025-03-30<br>Count: 0",
           "Date: 2025-04-06<br>Count: 0",
           "Date: 2025-04-13<br>Count: 0",
           "Date: 2025-04-20<br>Count: 0",
           "Date: 2025-04-27<br>Count: 0",
           "Date: 2025-05-04<br>Count: 0",
           "Date: 2025-05-11<br>Count: 0",
           "Date: 2025-05-18<br>Count: 0",
           "Date: 2025-05-25<br>Count: 0",
           "Date: 2025-06-01<br>Count: 0",
           "Date: 2025-06-08<br>Count: 0",
           "Date: 2025-06-15<br>Count: 0",
           "Date: 2025-06-22<br>Count: 0",
           "Date: 2025-06-29<br>Count: 0",
           "Date: 2025-07-06<br>Count: 0",
           "Date: 2025-07-13<br>Count: 0",
           "Date: 2025-07-20<br>Count: 0",
           "Date: 2025-07-27<br>Count: 0",
           "Date: 2025-08-03<br>Count: 0",
           "Date: 2025-08-10<br>Count: 0",
           "Date: 2025-08-17<br>Count: 0",
           "Date: 2025-08-24<br>Count: 0",
           "Date: 2025-08-31<br>Count: 0",
           "Date: 2025-09-07<br>Count: 0",
           "Date: 2025-09-14<br>Count: 0",
           "Date: 2025-09-21<br>Count: 0",
           "Date: 2025-09-28<br>Count: 0",
           "Date: 2025-10-05<br>Count: 0",
           "Date: 2025-10-12<br>Count: 0",
           "Date: 2025-10-19<br>Count: 0",
           "Date: 2025-10-26<br>Count: 0",
           "Date: 2025-11-02<br>Count: 0",
           "Date: 2025-11-09<br>Count: 0",
           "Date: 2025-11-16<br>Count: 0",
           "Date: 2025-11-23<br>Count: 0",
           "Date: 2025-11-30<br>Count: 0",
           "Date: 2025-12-07<br>Count: 0",
           "Date: 2025-12-14<br>Count: 0",
           "Date: 2025-12-21<br>Count: 0",
           "Date: 2025-12-28<br>Count: 0",
           ""
          ]
         ],
         "type": "heatmap",
         "x": [
          1,
          2,
          3,
          4,
          5,
          6,
          7,
          8,
          9,
          10,
          11,
          12,
          13,
          14,
          15,
          16,
          17,
          18,
          19,
          20,
          21,
          22,
          23,
          24,
          25,
          26,
          27,
          28,
          29,
          30,
          31,
          32,
          33,
          34,
          35,
          36,
          37,
          38,
          39,
          40,
          41,
          42,
          43,
          44,
          45,
          46,
          47,
          48,
          49,
          50,
          51,
          52,
          53
         ],
         "xgap": 3,
         "y": [
          "Mon",
          "Tue",
          "Wed",
          "Thu",
          "Fri",
          "Sat",
          "Sun"
         ],
         "ygap": 3,
         "z": [
          [
           0,
           1,
           1,
           0,
           0,
           0,
           0,
           0,
           0,
           0,
           0,
           0,
           0,
           0,
           0,
           0,
           0,
           0,
           0,
           0,
           0,
           0,
           0,
           0,
           0,
           0,
           0,
           0,
           0,
           0,
           0,
           0,
           0,
           0,
           0,
           0,
           0,
           0,
           0,
           0,
           0,
           0,
           0,
           0,
           0,
           0,
           0,
           0,
           0,
           0,
           0,
           0,
           0
          ],
          [
           0,
           1,
           1,
           0,
           0,
           0,
           0,
           0,
           0,
           0,
           0,
           0,
           0,
           0,
           0,
           0,
           0,
           0,
           0,
           0,
           0,
           0,
           0,
           0,
           0,
           0,
           0,
           0,
           0,
           0,
           0,
           0,
           0,
           0,
           0,
           0,
           0,
           0,
           0,
           0,
           0,
           0,
           0,
           0,
           0,
           0,
           0,
           0,
           0,
           0,
           0,
           0,
           0
          ],
          [
           1,
           0,
           1,
           0,
           0,
           0,
           0,
           0,
           0,
           0,
           0,
           0,
           0,
           0,
           0,
           0,
           0,
           0,
           0,
           0,
           0,
           0,
           0,
           0,
           0,
           0,
           0,
           0,
           0,
           0,
           0,
           0,
           0,
           0,
           0,
           0,
           0,
           0,
           0,
           0,
           0,
           0,
           0,
           0,
           0,
           0,
           0,
           0,
           0,
           0,
           0,
           0,
           0
          ],
          [
           1,
           1,
           1,
           0,
           0,
           0,
           0,
           0,
           0,
           0,
           0,
           0,
           0,
           0,
           0,
           0,
           0,
           0,
           0,
           0,
           0,
           0,
           0,
           0,
           0,
           0,
           0,
           0,
           0,
           0,
           0,
           0,
           0,
           0,
           0,
           0,
           0,
           0,
           0,
           0,
           0,
           0,
           0,
           0,
           0,
           0,
           0,
           0,
           0,
           0,
           0,
           0,
           0
          ],
          [
           1,
           0,
           1,
           0,
           0,
           0,
           0,
           0,
           0,
           0,
           0,
           0,
           0,
           0,
           0,
           0,
           0,
           0,
           0,
           0,
           0,
           0,
           0,
           0,
           0,
           0,
           0,
           0,
           0,
           0,
           0,
           0,
           0,
           0,
           0,
           0,
           0,
           0,
           0,
           0,
           0,
           0,
           0,
           0,
           0,
           0,
           0,
           0,
           0,
           0,
           0,
           0,
           0
          ],
          [
           0,
           1,
           0,
           0,
           0,
           0,
           0,
           0,
           0,
           0,
           0,
           0,
           0,
           0,
           0,
           0,
           0,
           0,
           0,
           0,
           0,
           0,
           0,
           0,
           0,
           0,
           0,
           0,
           0,
           0,
           0,
           0,
           0,
           0,
           0,
           0,
           0,
           0,
           0,
           0,
           0,
           0,
           0,
           0,
           0,
           0,
           0,
           0,
           0,
           0,
           0,
           0,
           0
          ],
          [
           0,
           0,
           0,
           0,
           0,
           0,
           0,
           0,
           0,
           0,
           0,
           0,
           0,
           0,
           0,
           0,
           0,
           0,
           0,
           0,
           0,
           0,
           0,
           0,
           0,
           0,
           0,
           0,
           0,
           0,
           0,
           0,
           0,
           0,
           0,
           0,
           0,
           0,
           0,
           0,
           0,
           0,
           0,
           0,
           0,
           0,
           0,
           0,
           0,
           0,
           0,
           0,
           0
          ]
         ]
        }
       ],
       "layout": {
        "height": 200,
        "margin": {
         "b": 20,
         "l": 20,
         "r": 20,
         "t": 40
        },
        "plot_bgcolor": "white",
        "shapes": [
         {
          "line": {
           "color": "rgba(0,0,0,0.2)",
           "width": 1
          },
          "type": "line",
          "x0": 3.5,
          "x1": 3.5,
          "y0": -0.5,
          "y1": 6.5
         },
         {
          "line": {
           "color": "rgba(0,0,0,0.2)",
           "width": 1
          },
          "type": "line",
          "x0": 7.5,
          "x1": 7.5,
          "y0": -0.5,
          "y1": 6.5
         },
         {
          "line": {
           "color": "rgba(0,0,0,0.2)",
           "width": 1
          },
          "type": "line",
          "x0": 12.5,
          "x1": 12.5,
          "y0": -0.5,
          "y1": 6.5
         },
         {
          "line": {
           "color": "rgba(0,0,0,0.2)",
           "width": 1
          },
          "type": "line",
          "x0": 16.5,
          "x1": 16.5,
          "y0": -0.5,
          "y1": 6.5
         },
         {
          "line": {
           "color": "rgba(0,0,0,0.2)",
           "width": 1
          },
          "type": "line",
          "x0": 20.5,
          "x1": 20.5,
          "y0": -0.5,
          "y1": 6.5
         },
         {
          "line": {
           "color": "rgba(0,0,0,0.2)",
           "width": 1
          },
          "type": "line",
          "x0": 25.5,
          "x1": 25.5,
          "y0": -0.5,
          "y1": 6.5
         },
         {
          "line": {
           "color": "rgba(0,0,0,0.2)",
           "width": 1
          },
          "type": "line",
          "x0": 29.5,
          "x1": 29.5,
          "y0": -0.5,
          "y1": 6.5
         },
         {
          "line": {
           "color": "rgba(0,0,0,0.2)",
           "width": 1
          },
          "type": "line",
          "x0": 34.5,
          "x1": 34.5,
          "y0": -0.5,
          "y1": 6.5
         },
         {
          "line": {
           "color": "rgba(0,0,0,0.2)",
           "width": 1
          },
          "type": "line",
          "x0": 38.5,
          "x1": 38.5,
          "y0": -0.5,
          "y1": 6.5
         },
         {
          "line": {
           "color": "rgba(0,0,0,0.2)",
           "width": 1
          },
          "type": "line",
          "x0": 42.5,
          "x1": 42.5,
          "y0": -0.5,
          "y1": 6.5
         },
         {
          "line": {
           "color": "rgba(0,0,0,0.2)",
           "width": 1
          },
          "type": "line",
          "x0": 47.5,
          "x1": 47.5,
          "y0": -0.5,
          "y1": 6.5
         }
        ],
        "template": {
         "data": {
          "bar": [
           {
            "error_x": {
             "color": "#2a3f5f"
            },
            "error_y": {
             "color": "#2a3f5f"
            },
            "marker": {
             "line": {
              "color": "#E5ECF6",
              "width": 0.5
             },
             "pattern": {
              "fillmode": "overlay",
              "size": 10,
              "solidity": 0.2
             }
            },
            "type": "bar"
           }
          ],
          "barpolar": [
           {
            "marker": {
             "line": {
              "color": "#E5ECF6",
              "width": 0.5
             },
             "pattern": {
              "fillmode": "overlay",
              "size": 10,
              "solidity": 0.2
             }
            },
            "type": "barpolar"
           }
          ],
          "carpet": [
           {
            "aaxis": {
             "endlinecolor": "#2a3f5f",
             "gridcolor": "white",
             "linecolor": "white",
             "minorgridcolor": "white",
             "startlinecolor": "#2a3f5f"
            },
            "baxis": {
             "endlinecolor": "#2a3f5f",
             "gridcolor": "white",
             "linecolor": "white",
             "minorgridcolor": "white",
             "startlinecolor": "#2a3f5f"
            },
            "type": "carpet"
           }
          ],
          "choropleth": [
           {
            "colorbar": {
             "outlinewidth": 0,
             "ticks": ""
            },
            "type": "choropleth"
           }
          ],
          "contour": [
           {
            "colorbar": {
             "outlinewidth": 0,
             "ticks": ""
            },
            "colorscale": [
             [
              0,
              "#0d0887"
             ],
             [
              0.1111111111111111,
              "#46039f"
             ],
             [
              0.2222222222222222,
              "#7201a8"
             ],
             [
              0.3333333333333333,
              "#9c179e"
             ],
             [
              0.4444444444444444,
              "#bd3786"
             ],
             [
              0.5555555555555556,
              "#d8576b"
             ],
             [
              0.6666666666666666,
              "#ed7953"
             ],
             [
              0.7777777777777778,
              "#fb9f3a"
             ],
             [
              0.8888888888888888,
              "#fdca26"
             ],
             [
              1,
              "#f0f921"
             ]
            ],
            "type": "contour"
           }
          ],
          "contourcarpet": [
           {
            "colorbar": {
             "outlinewidth": 0,
             "ticks": ""
            },
            "type": "contourcarpet"
           }
          ],
          "heatmap": [
           {
            "colorbar": {
             "outlinewidth": 0,
             "ticks": ""
            },
            "colorscale": [
             [
              0,
              "#0d0887"
             ],
             [
              0.1111111111111111,
              "#46039f"
             ],
             [
              0.2222222222222222,
              "#7201a8"
             ],
             [
              0.3333333333333333,
              "#9c179e"
             ],
             [
              0.4444444444444444,
              "#bd3786"
             ],
             [
              0.5555555555555556,
              "#d8576b"
             ],
             [
              0.6666666666666666,
              "#ed7953"
             ],
             [
              0.7777777777777778,
              "#fb9f3a"
             ],
             [
              0.8888888888888888,
              "#fdca26"
             ],
             [
              1,
              "#f0f921"
             ]
            ],
            "type": "heatmap"
           }
          ],
          "heatmapgl": [
           {
            "colorbar": {
             "outlinewidth": 0,
             "ticks": ""
            },
            "colorscale": [
             [
              0,
              "#0d0887"
             ],
             [
              0.1111111111111111,
              "#46039f"
             ],
             [
              0.2222222222222222,
              "#7201a8"
             ],
             [
              0.3333333333333333,
              "#9c179e"
             ],
             [
              0.4444444444444444,
              "#bd3786"
             ],
             [
              0.5555555555555556,
              "#d8576b"
             ],
             [
              0.6666666666666666,
              "#ed7953"
             ],
             [
              0.7777777777777778,
              "#fb9f3a"
             ],
             [
              0.8888888888888888,
              "#fdca26"
             ],
             [
              1,
              "#f0f921"
             ]
            ],
            "type": "heatmapgl"
           }
          ],
          "histogram": [
           {
            "marker": {
             "pattern": {
              "fillmode": "overlay",
              "size": 10,
              "solidity": 0.2
             }
            },
            "type": "histogram"
           }
          ],
          "histogram2d": [
           {
            "colorbar": {
             "outlinewidth": 0,
             "ticks": ""
            },
            "colorscale": [
             [
              0,
              "#0d0887"
             ],
             [
              0.1111111111111111,
              "#46039f"
             ],
             [
              0.2222222222222222,
              "#7201a8"
             ],
             [
              0.3333333333333333,
              "#9c179e"
             ],
             [
              0.4444444444444444,
              "#bd3786"
             ],
             [
              0.5555555555555556,
              "#d8576b"
             ],
             [
              0.6666666666666666,
              "#ed7953"
             ],
             [
              0.7777777777777778,
              "#fb9f3a"
             ],
             [
              0.8888888888888888,
              "#fdca26"
             ],
             [
              1,
              "#f0f921"
             ]
            ],
            "type": "histogram2d"
           }
          ],
          "histogram2dcontour": [
           {
            "colorbar": {
             "outlinewidth": 0,
             "ticks": ""
            },
            "colorscale": [
             [
              0,
              "#0d0887"
             ],
             [
              0.1111111111111111,
              "#46039f"
             ],
             [
              0.2222222222222222,
              "#7201a8"
             ],
             [
              0.3333333333333333,
              "#9c179e"
             ],
             [
              0.4444444444444444,
              "#bd3786"
             ],
             [
              0.5555555555555556,
              "#d8576b"
             ],
             [
              0.6666666666666666,
              "#ed7953"
             ],
             [
              0.7777777777777778,
              "#fb9f3a"
             ],
             [
              0.8888888888888888,
              "#fdca26"
             ],
             [
              1,
              "#f0f921"
             ]
            ],
            "type": "histogram2dcontour"
           }
          ],
          "mesh3d": [
           {
            "colorbar": {
             "outlinewidth": 0,
             "ticks": ""
            },
            "type": "mesh3d"
           }
          ],
          "parcoords": [
           {
            "line": {
             "colorbar": {
              "outlinewidth": 0,
              "ticks": ""
             }
            },
            "type": "parcoords"
           }
          ],
          "pie": [
           {
            "automargin": true,
            "type": "pie"
           }
          ],
          "scatter": [
           {
            "fillpattern": {
             "fillmode": "overlay",
             "size": 10,
             "solidity": 0.2
            },
            "type": "scatter"
           }
          ],
          "scatter3d": [
           {
            "line": {
             "colorbar": {
              "outlinewidth": 0,
              "ticks": ""
             }
            },
            "marker": {
             "colorbar": {
              "outlinewidth": 0,
              "ticks": ""
             }
            },
            "type": "scatter3d"
           }
          ],
          "scattercarpet": [
           {
            "marker": {
             "colorbar": {
              "outlinewidth": 0,
              "ticks": ""
             }
            },
            "type": "scattercarpet"
           }
          ],
          "scattergeo": [
           {
            "marker": {
             "colorbar": {
              "outlinewidth": 0,
              "ticks": ""
             }
            },
            "type": "scattergeo"
           }
          ],
          "scattergl": [
           {
            "marker": {
             "colorbar": {
              "outlinewidth": 0,
              "ticks": ""
             }
            },
            "type": "scattergl"
           }
          ],
          "scattermapbox": [
           {
            "marker": {
             "colorbar": {
              "outlinewidth": 0,
              "ticks": ""
             }
            },
            "type": "scattermapbox"
           }
          ],
          "scatterpolar": [
           {
            "marker": {
             "colorbar": {
              "outlinewidth": 0,
              "ticks": ""
             }
            },
            "type": "scatterpolar"
           }
          ],
          "scatterpolargl": [
           {
            "marker": {
             "colorbar": {
              "outlinewidth": 0,
              "ticks": ""
             }
            },
            "type": "scatterpolargl"
           }
          ],
          "scatterternary": [
           {
            "marker": {
             "colorbar": {
              "outlinewidth": 0,
              "ticks": ""
             }
            },
            "type": "scatterternary"
           }
          ],
          "surface": [
           {
            "colorbar": {
             "outlinewidth": 0,
             "ticks": ""
            },
            "colorscale": [
             [
              0,
              "#0d0887"
             ],
             [
              0.1111111111111111,
              "#46039f"
             ],
             [
              0.2222222222222222,
              "#7201a8"
             ],
             [
              0.3333333333333333,
              "#9c179e"
             ],
             [
              0.4444444444444444,
              "#bd3786"
             ],
             [
              0.5555555555555556,
              "#d8576b"
             ],
             [
              0.6666666666666666,
              "#ed7953"
             ],
             [
              0.7777777777777778,
              "#fb9f3a"
             ],
             [
              0.8888888888888888,
              "#fdca26"
             ],
             [
              1,
              "#f0f921"
             ]
            ],
            "type": "surface"
           }
          ],
          "table": [
           {
            "cells": {
             "fill": {
              "color": "#EBF0F8"
             },
             "line": {
              "color": "white"
             }
            },
            "header": {
             "fill": {
              "color": "#C8D4E3"
             },
             "line": {
              "color": "white"
             }
            },
            "type": "table"
           }
          ]
         },
         "layout": {
          "annotationdefaults": {
           "arrowcolor": "#2a3f5f",
           "arrowhead": 0,
           "arrowwidth": 1
          },
          "autotypenumbers": "strict",
          "coloraxis": {
           "colorbar": {
            "outlinewidth": 0,
            "ticks": ""
           }
          },
          "colorscale": {
           "diverging": [
            [
             0,
             "#8e0152"
            ],
            [
             0.1,
             "#c51b7d"
            ],
            [
             0.2,
             "#de77ae"
            ],
            [
             0.3,
             "#f1b6da"
            ],
            [
             0.4,
             "#fde0ef"
            ],
            [
             0.5,
             "#f7f7f7"
            ],
            [
             0.6,
             "#e6f5d0"
            ],
            [
             0.7,
             "#b8e186"
            ],
            [
             0.8,
             "#7fbc41"
            ],
            [
             0.9,
             "#4d9221"
            ],
            [
             1,
             "#276419"
            ]
           ],
           "sequential": [
            [
             0,
             "#0d0887"
            ],
            [
             0.1111111111111111,
             "#46039f"
            ],
            [
             0.2222222222222222,
             "#7201a8"
            ],
            [
             0.3333333333333333,
             "#9c179e"
            ],
            [
             0.4444444444444444,
             "#bd3786"
            ],
            [
             0.5555555555555556,
             "#d8576b"
            ],
            [
             0.6666666666666666,
             "#ed7953"
            ],
            [
             0.7777777777777778,
             "#fb9f3a"
            ],
            [
             0.8888888888888888,
             "#fdca26"
            ],
            [
             1,
             "#f0f921"
            ]
           ],
           "sequentialminus": [
            [
             0,
             "#0d0887"
            ],
            [
             0.1111111111111111,
             "#46039f"
            ],
            [
             0.2222222222222222,
             "#7201a8"
            ],
            [
             0.3333333333333333,
             "#9c179e"
            ],
            [
             0.4444444444444444,
             "#bd3786"
            ],
            [
             0.5555555555555556,
             "#d8576b"
            ],
            [
             0.6666666666666666,
             "#ed7953"
            ],
            [
             0.7777777777777778,
             "#fb9f3a"
            ],
            [
             0.8888888888888888,
             "#fdca26"
            ],
            [
             1,
             "#f0f921"
            ]
           ]
          },
          "colorway": [
           "#636efa",
           "#EF553B",
           "#00cc96",
           "#ab63fa",
           "#FFA15A",
           "#19d3f3",
           "#FF6692",
           "#B6E880",
           "#FF97FF",
           "#FECB52"
          ],
          "font": {
           "color": "#2a3f5f"
          },
          "geo": {
           "bgcolor": "white",
           "lakecolor": "white",
           "landcolor": "#E5ECF6",
           "showlakes": true,
           "showland": true,
           "subunitcolor": "white"
          },
          "hoverlabel": {
           "align": "left"
          },
          "hovermode": "closest",
          "mapbox": {
           "style": "light"
          },
          "paper_bgcolor": "white",
          "plot_bgcolor": "#E5ECF6",
          "polar": {
           "angularaxis": {
            "gridcolor": "white",
            "linecolor": "white",
            "ticks": ""
           },
           "bgcolor": "#E5ECF6",
           "radialaxis": {
            "gridcolor": "white",
            "linecolor": "white",
            "ticks": ""
           }
          },
          "scene": {
           "xaxis": {
            "backgroundcolor": "#E5ECF6",
            "gridcolor": "white",
            "gridwidth": 2,
            "linecolor": "white",
            "showbackground": true,
            "ticks": "",
            "zerolinecolor": "white"
           },
           "yaxis": {
            "backgroundcolor": "#E5ECF6",
            "gridcolor": "white",
            "gridwidth": 2,
            "linecolor": "white",
            "showbackground": true,
            "ticks": "",
            "zerolinecolor": "white"
           },
           "zaxis": {
            "backgroundcolor": "#E5ECF6",
            "gridcolor": "white",
            "gridwidth": 2,
            "linecolor": "white",
            "showbackground": true,
            "ticks": "",
            "zerolinecolor": "white"
           }
          },
          "shapedefaults": {
           "line": {
            "color": "#2a3f5f"
           }
          },
          "ternary": {
           "aaxis": {
            "gridcolor": "white",
            "linecolor": "white",
            "ticks": ""
           },
           "baxis": {
            "gridcolor": "white",
            "linecolor": "white",
            "ticks": ""
           },
           "bgcolor": "#E5ECF6",
           "caxis": {
            "gridcolor": "white",
            "linecolor": "white",
            "ticks": ""
           }
          },
          "title": {
           "x": 0.05
          },
          "xaxis": {
           "automargin": true,
           "gridcolor": "white",
           "linecolor": "white",
           "ticks": "",
           "title": {
            "standoff": 15
           },
           "zerolinecolor": "white",
           "zerolinewidth": 2
          },
          "yaxis": {
           "automargin": true,
           "gridcolor": "white",
           "linecolor": "white",
           "ticks": "",
           "title": {
            "standoff": 15
           },
           "zerolinecolor": "white",
           "zerolinewidth": 2
          }
         }
        },
        "title": {
         "text": "Meri Nova's Activity Heatmap - 2025"
        },
        "xaxis": {
         "showgrid": false
        },
        "yaxis": {
         "autorange": "reversed",
         "showgrid": false
        }
       }
      }
     },
     "metadata": {},
     "output_type": "display_data"
    }
   ],
   "source": [
    "generate_plotly_heatmaps_for_years(\n",
    "    response_data=data,\n",
    "    years=[2024, 2025],\n",
    "    name=\"Meri Nova\",\n",
    "    colorscale='YlGn'  # Try different colorscales: 'Viridis', 'Plasma', etc.\n",
    ")"
   ]
  }
 ],
 "metadata": {
  "kernelspec": {
   "display_name": "scrapper",
   "language": "python",
   "name": "python3"
  },
  "language_info": {
   "codemirror_mode": {
    "name": "ipython",
    "version": 3
   },
   "file_extension": ".py",
   "mimetype": "text/x-python",
   "name": "python",
   "nbconvert_exporter": "python",
   "pygments_lexer": "ipython3",
   "version": "3.9.20"
  }
 },
 "nbformat": 4,
 "nbformat_minor": 2
}
